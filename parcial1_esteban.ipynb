{
  "nbformat": 4,
  "nbformat_minor": 0,
  "metadata": {
    "colab": {
      "provenance": [],
      "gpuType": "T4",
      "include_colab_link": true
    },
    "kernelspec": {
      "name": "python3",
      "display_name": "Python 3"
    },
    "language_info": {
      "name": "python"
    },
    "accelerator": "GPU"
  },
  "cells": [
    {
      "cell_type": "markdown",
      "metadata": {
        "id": "view-in-github",
        "colab_type": "text"
      },
      "source": [
        "<a href=\"https://colab.research.google.com/github/xtebaan/Rdes-neuronales/blob/main/parcial1_esteban.ipynb\" target=\"_parent\"><img src=\"https://colab.research.google.com/assets/colab-badge.svg\" alt=\"Open In Colab\"/></a>"
      ]
    },
    {
      "cell_type": "code",
      "source": [],
      "metadata": {
        "id": "rbwV4dz0XME-"
      },
      "execution_count": null,
      "outputs": []
    },
    {
      "cell_type": "code",
      "execution_count": null,
      "metadata": {
        "collapsed": true,
        "id": "goEPGSiEN7oR",
        "colab": {
          "base_uri": "https://localhost:8080/"
        },
        "outputId": "bf34a84b-676b-4d02-d5db-735ba9e44096"
      },
      "outputs": [
        {
          "output_type": "stream",
          "name": "stdout",
          "text": [
            "Modo de aprendizaje: Entrenando la red neuronal...\n",
            "Epoch 1/5\n",
            "\u001b[1m1875/1875\u001b[0m \u001b[32m━━━━━━━━━━━━━━━━━━━━\u001b[0m\u001b[37m\u001b[0m \u001b[1m9s\u001b[0m 4ms/step - accuracy: 0.8734 - loss: 0.4370 - val_accuracy: 0.9574 - val_loss: 0.1383\n",
            "Epoch 2/5\n",
            "\u001b[1m1875/1875\u001b[0m \u001b[32m━━━━━━━━━━━━━━━━━━━━\u001b[0m\u001b[37m\u001b[0m \u001b[1m7s\u001b[0m 4ms/step - accuracy: 0.9646 - loss: 0.1237 - val_accuracy: 0.9656 - val_loss: 0.1130\n",
            "Epoch 3/5\n",
            "\u001b[1m1875/1875\u001b[0m \u001b[32m━━━━━━━━━━━━━━━━━━━━\u001b[0m\u001b[37m\u001b[0m \u001b[1m8s\u001b[0m 4ms/step - accuracy: 0.9756 - loss: 0.0790 - val_accuracy: 0.9724 - val_loss: 0.0876\n",
            "Epoch 4/5\n",
            "\u001b[1m1875/1875\u001b[0m \u001b[32m━━━━━━━━━━━━━━━━━━━━\u001b[0m\u001b[37m\u001b[0m \u001b[1m8s\u001b[0m 4ms/step - accuracy: 0.9818 - loss: 0.0583 - val_accuracy: 0.9761 - val_loss: 0.0797\n",
            "Epoch 5/5\n",
            "\u001b[1m1875/1875\u001b[0m \u001b[32m━━━━━━━━━━━━━━━━━━━━\u001b[0m\u001b[37m\u001b[0m \u001b[1m7s\u001b[0m 4ms/step - accuracy: 0.9873 - loss: 0.0432 - val_accuracy: 0.9762 - val_loss: 0.0761\n"
          ]
        },
        {
          "output_type": "execute_result",
          "data": {
            "text/plain": [
              "<keras.src.callbacks.history.History at 0x7dc665d22290>"
            ]
          },
          "metadata": {},
          "execution_count": 5
        }
      ],
      "source": [
        "#Importar librerias necesarias\n",
        "import tensorflow as tf\n",
        "from tensorflow import keras\n",
        "\n",
        "# Cargar el dataset MNIST\n",
        "(x_train, y_train), (x_test, y_test) = keras.datasets.mnist.load_data()\n",
        "\n",
        "#normalizar los datos (escala de 0 a 1\n",
        "x_train, x_test = x_train / 255.0, x_test / 255.0\n",
        "\n",
        "#Definir la red nauronal\n",
        "model = keras.Sequential([\n",
        "    keras.layers.Flatten(input_shape=(28, 28)), #Capa de entrada\n",
        "    keras.layers.Dense(128, activation='relu'), #Capa oculta\n",
        "    keras.layers.Dense(10, activation='softmax') #Capa de salida (10)\n",
        "])\n",
        "\n",
        "# Compliar el modelo (modelo de aprendizaje)\n",
        "model.compile(optimizer='adam',\n",
        "              loss='sparse_categorical_crossentropy',\n",
        "              metrics=['accuracy'])\n",
        "\n",
        "# ENtrenar la red neuronal\n",
        "print(\"Modo de aprendizaje: Entrenando la red neuronal...\")\n",
        "model.fit(x_train, y_train, epochs=5, validation_data=(x_test, y_test))"
      ]
    },
    {
      "cell_type": "markdown",
      "source": [
        "CAMBIO1"
      ],
      "metadata": {
        "id": "aZt5cjlxWJEM"
      }
    },
    {
      "cell_type": "code",
      "source": [
        "#Importar librerias necesarias\n",
        "import tensorflow as tf\n",
        "from tensorflow import keras\n",
        "\n",
        "# Cargar el dataset MNIST\n",
        "(x_train, y_train), (x_test, y_test) = keras.datasets.mnist.load_data()\n",
        "\n",
        "#normalizar los datos (escala de 0 a 1\n",
        "x_train, x_test = x_train / 255.0, x_test / 255.0\n",
        "\n",
        "#Definir la red nauronal\n",
        "model = keras.Sequential([\n",
        "    keras.layers.Flatten(input_shape=(28, 28)), #Capa de entrada\n",
        "    keras.layers.Dense(128, activation='relu'), #Capa oculta\n",
        "    keras.layers.Dense(10, activation='softmax') #Capa de salida (10)\n",
        "])\n",
        "\n",
        "# Compliar el modelo (modelo de aprendizaje)\n",
        "model.compile(optimizer='adam',\n",
        "              loss='sparse_categorical_crossentropy',\n",
        "              metrics=['accuracy'])\n",
        "\n",
        "# Entrenar el modelo\n",
        "model.fit(x_train, y_train, epochs=3)\n",
        "\n",
        "#Evaluar el modelo\n",
        "test_loss, test_acc = model.evaluate(x_test, y_test)\n",
        "print(f\"Presicion en el conjunto de prueba: {test_acc:.4f}\")"
      ],
      "metadata": {
        "colab": {
          "base_uri": "https://localhost:8080/"
        },
        "id": "qt8Y9l1rVX_T",
        "outputId": "3c355c8a-1d31-42fa-fed3-bfb1b4b58f99"
      },
      "execution_count": null,
      "outputs": [
        {
          "output_type": "stream",
          "name": "stdout",
          "text": [
            "Epoch 1/3\n",
            "\u001b[1m1875/1875\u001b[0m \u001b[32m━━━━━━━━━━━━━━━━━━━━\u001b[0m\u001b[37m\u001b[0m \u001b[1m8s\u001b[0m 4ms/step - accuracy: 0.8767 - loss: 0.4339\n",
            "Epoch 2/3\n",
            "\u001b[1m1875/1875\u001b[0m \u001b[32m━━━━━━━━━━━━━━━━━━━━\u001b[0m\u001b[37m\u001b[0m \u001b[1m6s\u001b[0m 3ms/step - accuracy: 0.9641 - loss: 0.1244\n",
            "Epoch 3/3\n",
            "\u001b[1m1875/1875\u001b[0m \u001b[32m━━━━━━━━━━━━━━━━━━━━\u001b[0m\u001b[37m\u001b[0m \u001b[1m8s\u001b[0m 4ms/step - accuracy: 0.9777 - loss: 0.0759\n",
            "\u001b[1m313/313\u001b[0m \u001b[32m━━━━━━━━━━━━━━━━━━━━\u001b[0m\u001b[37m\u001b[0m \u001b[1m1s\u001b[0m 2ms/step - accuracy: 0.9700 - loss: 0.0963\n",
            "Presicion en el conjunto de prueba: 0.9741\n"
          ]
        }
      ]
    },
    {
      "cell_type": "markdown",
      "source": [
        "CAMBIO 2"
      ],
      "metadata": {
        "id": "zTZtDOnuiWme"
      }
    },
    {
      "cell_type": "code",
      "source": [
        "# Importar las bibliotecas necesarias\n",
        "import tensorflow as tf\n",
        "from tensorflow.keras import layers, models\n",
        "import matplotlib.pyplot as plt  # Para visualizar las imágenes\n",
        "\n",
        "# Cargar y preparar los datos de MNIST\n",
        "(x_train, y_train), (x_test, y_test) = tf.keras.datasets.mnist.load_data()\n",
        "\n",
        "# Normalizar los datos (valores entre 0 y 1)\n",
        "x_train = x_train / 255.0\n",
        "x_test = x_test / 255.0\n",
        "\n",
        "# Mostrar algunas imágenes de ejemplo\n",
        "plt.figure(figsize=(10, 5))  # Tamaño de la figura\n",
        "for i in range(10):  # Mostrar 10 imágenes\n",
        "    plt.subplot(2, 5, i+1)  # Organizar en 2 filas y 5 columnas\n",
        "    plt.imshow(x_train[i], cmap='gray')  # Mostrar la imagen en escala de grises\n",
        "    plt.title(f'Dígito: {y_train[i]}')  # Título con la etiqueta real\n",
        "    plt.axis('off')  # Quitar ejes\n",
        "plt.show()  # Mostrar todas las imágenes\n",
        "\n",
        "# Crear un modelo simple\n",
        "model = models.Sequential([\n",
        "    layers.Flatten(input_shape=(28, 28)),  # Aplanar las imágenes de 28x28 a un vector\n",
        "    layers.Dense(128, activation='relu'),  # Capa densa con 128 neuronas\n",
        "    layers.Dense(10, activation='softmax') # Capa de salida con 10 clases\n",
        "])\n",
        "\n",
        "# Compilar el modelo\n",
        "model.compile(optimizer='adam',\n",
        "              loss='sparse_categorical_crossentropy',\n",
        "              metrics=['accuracy'])\n",
        "\n",
        "# Entrenar el modelo\n",
        "model.fit(x_train, y_train, epochs=3)\n",
        "\n",
        "# Evaluar el modelo\n",
        "test_loss, test_acc = model.evaluate(x_test, y_test)\n",
        "print(f'Precisión en el conjunto de prueba: {test_acc:.4f}')"
      ],
      "metadata": {
        "colab": {
          "base_uri": "https://localhost:8080/",
          "height": 548
        },
        "id": "U0ZkLZSuiVV7",
        "outputId": "9237cd81-9aec-4843-955d-cce74b74d2c0"
      },
      "execution_count": null,
      "outputs": [
        {
          "output_type": "display_data",
          "data": {
            "text/plain": [
              "<Figure size 1000x500 with 10 Axes>"
            ],
            "image/png": "[encoded data removed]"
          },
          "metadata": {}
        },
        {
          "output_type": "stream",
          "name": "stdout",
          "text": [
            "Epoch 1/3\n",
            "\u001b[1m1875/1875\u001b[0m \u001b[32m━━━━━━━━━━━━━━━━━━━━\u001b[0m\u001b[37m\u001b[0m \u001b[1m5s\u001b[0m 2ms/step - accuracy: 0.8782 - loss: 0.4328\n",
            "Epoch 2/3\n",
            "\u001b[1m1875/1875\u001b[0m \u001b[32m━━━━━━━━━━━━━━━━━━━━\u001b[0m\u001b[37m\u001b[0m \u001b[1m4s\u001b[0m 2ms/step - accuracy: 0.9638 - loss: 0.1232\n",
            "Epoch 3/3\n",
            "\u001b[1m1875/1875\u001b[0m \u001b[32m━━━━━━━━━━━━━━━━━━━━\u001b[0m\u001b[37m\u001b[0m \u001b[1m4s\u001b[0m 2ms/step - accuracy: 0.9764 - loss: 0.0795\n",
            "\u001b[1m313/313\u001b[0m \u001b[32m━━━━━━━━━━━━━━━━━━━━\u001b[0m\u001b[37m\u001b[0m \u001b[1m1s\u001b[0m 3ms/step - accuracy: 0.9673 - loss: 0.1036\n",
            "Precisión en el conjunto de prueba: 0.9709\n"
          ]
        }
      ]
    },
    {
      "cell_type": "markdown",
      "source": [
        "EJERCICIO 2: Modo de Recuerdo (Interferencia o Prediccion)"
      ],
      "metadata": {
        "id": "izUJcBfJjsJG"
      }
    },
    {
      "cell_type": "code",
      "source": [
        "# Importar las bibliotecas necesarias\n",
        "import tensorflow as tf\n",
        "from tensorflow.keras import layers, models\n",
        "import matplotlib.pyplot as plt  # Para visualizar las imágenes\n",
        "\n",
        "# Cargar y preparar los datos de MNIST\n",
        "(x_train, y_train), (x_test, y_test) = tf.keras.datasets.mnist.load_data()\n",
        "\n",
        "# Normalizar los datos (valores entre 0 y 1)\n",
        "x_train = x_train / 255.0\n",
        "x_test = x_test / 255.0\n",
        "\n",
        "# Mostrar algunas imágenes de ejemplo\n",
        "plt.figure(figsize=(10, 5))  # Tamaño de la figura\n",
        "for i in range(10):  # Mostrar 10 imágenes\n",
        "    plt.subplot(2, 5, i+1)  # Organizar en 2 filas y 5 columnas\n",
        "    plt.imshow(x_train[i], cmap='gray')  # Mostrar la imagen en escala de grises\n",
        "    plt.title(f'Dígito: {y_train[i]}')  # Título con la etiqueta real\n",
        "    plt.axis('off')  # Quitar ejes\n",
        "plt.show()  # Mostrar todas las imágenes\n",
        "\n",
        "# Crear un modelo con memoria (LSTM)\n",
        "model = models.Sequential([\n",
        "    layers.Input(shape=(28, 28)),  # 28 pasos de tiempo (filas), 28 características (píxeles por fila)\n",
        "    layers.LSTM(128, return_sequences=False),  # Capa LSTM con 128 unidades, sin devolver secuencias\n",
        "    layers.Dense(10, activation='softmax')  # Capa de salida con 10 clases\n",
        "])\n",
        "\n",
        "\n",
        "# Compilar el modelo\n",
        "model.compile(optimizer='adam',\n",
        "              loss='sparse_categorical_crossentropy',\n",
        "              metrics=['accuracy'])\n",
        "\n",
        "#resumen del modelo\n",
        "model.summary()\n",
        "\n",
        "# Entrenar el modelo\n",
        "model.fit(x_train, y_train, epochs=3)\n",
        "\n",
        "# Evaluar el modelo\n",
        "test_loss, test_acc = model.evaluate(x_test, y_test)\n",
        "print(f'Precisión en el conjunto de prueba: {test_acc:.4f}')"
      ],
      "metadata": {
        "colab": {
          "base_uri": "https://localhost:8080/",
          "height": 724
        },
        "id": "7IS88oDIj2ud",
        "outputId": "a58a7321-cb9a-4d05-ed88-f34fb09e6947"
      },
      "execution_count": null,
      "outputs": [
        {
          "output_type": "display_data",
          "data": {
            "text/plain": [
              "<Figure size 1000x500 with 10 Axes>"
            ],
            "image/png": "[encoded data removed]"
          },
          "metadata": {}
        },
        {
          "output_type": "display_data",
          "data": {
            "text/plain": [
              "\u001b[1mModel: \"sequential_2\"\u001b[0m\n"
            ],
            "text/html": [
              "<pre style=\"white-space:pre;overflow-x:auto;line-height:normal;font-family:Menlo,'DejaVu Sans Mono',consolas,'Courier New',monospace\"><span style=\"font-weight: bold\">Model: \"sequential_2\"</span>\n",
              "</pre>\n"
            ]
          },
          "metadata": {}
        },
        {
          "output_type": "display_data",
          "data": {
            "text/plain": [
              "┏━━━━━━━━━━━━━━━━━━━━━━━━━━━━━━━━━━━━━━┳━━━━━━━━━━━━━━━━━━━━━━━━━━━━━┳━━━━━━━━━━━━━━━━━┓\n",
              "┃\u001b[1m \u001b[0m\u001b[1mLayer (type)                        \u001b[0m\u001b[1m \u001b[0m┃\u001b[1m \u001b[0m\u001b[1mOutput Shape               \u001b[0m\u001b[1m \u001b[0m┃\u001b[1m \u001b[0m\u001b[1m        Param #\u001b[0m\u001b[1m \u001b[0m┃\n",
              "┡━━━━━━━━━━━━━━━━━━━━━━━━━━━━━━━━━━━━━━╇━━━━━━━━━━━━━━━━━━━━━━━━━━━━━╇━━━━━━━━━━━━━━━━━┩\n",
              "│ lstm (\u001b[38;5;33mLSTM\u001b[0m)                          │ (\u001b[38;5;45mNone\u001b[0m, \u001b[38;5;34m128\u001b[0m)                 │          \u001b[38;5;34m80,384\u001b[0m │\n",
              "├──────────────────────────────────────┼─────────────────────────────┼─────────────────┤\n",
              "│ dense_4 (\u001b[38;5;33mDense\u001b[0m)                      │ (\u001b[38;5;45mNone\u001b[0m, \u001b[38;5;34m10\u001b[0m)                  │           \u001b[38;5;34m1,290\u001b[0m │\n",
              "└──────────────────────────────────────┴─────────────────────────────┴─────────────────┘\n"
            ],
            "text/html": [
              "<pre style=\"white-space:pre;overflow-x:auto;line-height:normal;font-family:Menlo,'DejaVu Sans Mono',consolas,'Courier New',monospace\">┏━━━━━━━━━━━━━━━━━━━━━━━━━━━━━━━━━━━━━━┳━━━━━━━━━━━━━━━━━━━━━━━━━━━━━┳━━━━━━━━━━━━━━━━━┓\n",
              "┃<span style=\"font-weight: bold\"> Layer (type)                         </span>┃<span style=\"font-weight: bold\"> Output Shape                </span>┃<span style=\"font-weight: bold\">         Param # </span>┃\n",
              "┡━━━━━━━━━━━━━━━━━━━━━━━━━━━━━━━━━━━━━━╇━━━━━━━━━━━━━━━━━━━━━━━━━━━━━╇━━━━━━━━━━━━━━━━━┩\n",
              "│ lstm (<span style=\"color: #0087ff; text-decoration-color: #0087ff\">LSTM</span>)                          │ (<span style=\"color: #00d7ff; text-decoration-color: #00d7ff\">None</span>, <span style=\"color: #00af00; text-decoration-color: #00af00\">128</span>)                 │          <span style=\"color: #00af00; text-decoration-color: #00af00\">80,384</span> │\n",
              "├──────────────────────────────────────┼─────────────────────────────┼─────────────────┤\n",
              "│ dense_4 (<span style=\"color: #0087ff; text-decoration-color: #0087ff\">Dense</span>)                      │ (<span style=\"color: #00d7ff; text-decoration-color: #00d7ff\">None</span>, <span style=\"color: #00af00; text-decoration-color: #00af00\">10</span>)                  │           <span style=\"color: #00af00; text-decoration-color: #00af00\">1,290</span> │\n",
              "└──────────────────────────────────────┴─────────────────────────────┴─────────────────┘\n",
              "</pre>\n"
            ]
          },
          "metadata": {}
        },
        {
          "output_type": "display_data",
          "data": {
            "text/plain": [
              "\u001b[1m Total params: \u001b[0m\u001b[38;5;34m81,674\u001b[0m (319.04 KB)\n"
            ],
            "text/html": [
              "<pre style=\"white-space:pre;overflow-x:auto;line-height:normal;font-family:Menlo,'DejaVu Sans Mono',consolas,'Courier New',monospace\"><span style=\"font-weight: bold\"> Total params: </span><span style=\"color: #00af00; text-decoration-color: #00af00\">81,674</span> (319.04 KB)\n",
              "</pre>\n"
            ]
          },
          "metadata": {}
        },
        {
          "output_type": "display_data",
          "data": {
            "text/plain": [
              "\u001b[1m Trainable params: \u001b[0m\u001b[38;5;34m81,674\u001b[0m (319.04 KB)\n"
            ],
            "text/html": [
              "<pre style=\"white-space:pre;overflow-x:auto;line-height:normal;font-family:Menlo,'DejaVu Sans Mono',consolas,'Courier New',monospace\"><span style=\"font-weight: bold\"> Trainable params: </span><span style=\"color: #00af00; text-decoration-color: #00af00\">81,674</span> (319.04 KB)\n",
              "</pre>\n"
            ]
          },
          "metadata": {}
        },
        {
          "output_type": "display_data",
          "data": {
            "text/plain": [
              "\u001b[1m Non-trainable params: \u001b[0m\u001b[38;5;34m0\u001b[0m (0.00 B)\n"
            ],
            "text/html": [
              "<pre style=\"white-space:pre;overflow-x:auto;line-height:normal;font-family:Menlo,'DejaVu Sans Mono',consolas,'Courier New',monospace\"><span style=\"font-weight: bold\"> Non-trainable params: </span><span style=\"color: #00af00; text-decoration-color: #00af00\">0</span> (0.00 B)\n",
              "</pre>\n"
            ]
          },
          "metadata": {}
        },
        {
          "output_type": "stream",
          "name": "stdout",
          "text": [
            "Epoch 1/3\n",
            "\u001b[1m1875/1875\u001b[0m \u001b[32m━━━━━━━━━━━━━━━━━━━━\u001b[0m\u001b[37m\u001b[0m \u001b[1m10s\u001b[0m 4ms/step - accuracy: 0.7611 - loss: 0.6949\n",
            "Epoch 2/3\n",
            "\u001b[1m1875/1875\u001b[0m \u001b[32m━━━━━━━━━━━━━━━━━━━━\u001b[0m\u001b[37m\u001b[0m \u001b[1m9s\u001b[0m 5ms/step - accuracy: 0.9639 - loss: 0.1210\n",
            "Epoch 3/3\n",
            "\u001b[1m1875/1875\u001b[0m \u001b[32m━━━━━━━━━━━━━━━━━━━━\u001b[0m\u001b[37m\u001b[0m \u001b[1m10s\u001b[0m 5ms/step - accuracy: 0.9767 - loss: 0.0778\n",
            "\u001b[1m313/313\u001b[0m \u001b[32m━━━━━━━━━━━━━━━━━━━━\u001b[0m\u001b[37m\u001b[0m \u001b[1m1s\u001b[0m 3ms/step - accuracy: 0.9682 - loss: 0.1040\n",
            "Precisión en el conjunto de prueba: 0.9745\n"
          ]
        }
      ]
    },
    {
      "cell_type": "code",
      "source": [
        "# Importar las bibliotecas necesarias\n",
        "import tensorflow as tf\n",
        "from tensorflow.keras import layers, models\n",
        "import matplotlib.pyplot as plt\n",
        "import numpy as np\n",
        "import random  # Para seleccionar un índice aleatorio\n",
        "\n",
        "# Cargar y preparar los datos de MNIST\n",
        "(x_train, y_train), (x_test, y_test) = tf.keras.datasets.mnist.load_data()\n",
        "\n",
        "# Normalizar los datos (valores entre 0 y 1)\n",
        "x_train = x_train / 255.0\n",
        "x_test = x_test / 255.0\n",
        "\n",
        "# Crear un modelo con memoria simple (SimpleRNN)\n",
        "model = models.Sequential([\n",
        "    layers.Input(shape=(28, 28)),  # 28 pasos de tiempo (filas), 28 características (píxeles por fila)\n",
        "    layers.SimpleRNN(64),  # Capa SimpleRNN con 64 unidades\n",
        "    layers.Dense(10, activation='softmax')  # Capa de salida con 10 clases\n",
        "])\n",
        "\n",
        "# Definir un índice válido\n",
        "digito_deseado = 6 # Cambia este valor por el dígito que quieres probar\n",
        "indices_digito = np.where(y_test == digito_deseado)[0]\n",
        "\n",
        "if len(indices_digito) > 0:\n",
        "    indice = random.choice(indices_digito)  # Elegir un índice aleatorio del dígito deseado\n",
        "else:\n",
        "    indice = None  # No se encontró el dígito en el conjunto de prueba\n",
        "\n",
        "if indice is not None:\n",
        "    # Seleccionar la imagen y su etiqueta real\n",
        "    imagen_prueba = x_test[indice]\n",
        "    etiqueta_real = y_test[indice]\n",
        "\n",
        "    # Mostrar la imagen seleccionada\n",
        "    plt.figure(figsize=(5, 5))\n",
        "    plt.imshow(imagen_prueba, cmap='gray')\n",
        "    plt.title(f'Imagen seleccionada - Etiqueta real: {etiqueta_real}')\n",
        "    plt.axis('off')\n",
        "    plt.show()\n",
        "\n",
        "    # Realizar la predicción\n",
        "    imagen_prueba_reshape = np.expand_dims(imagen_prueba, axis=0)\n",
        "    prediccion = model.predict(imagen_prueba_reshape, verbose=0)\n",
        "    digito_predicho = np.argmax(prediccion)\n",
        "\n",
        "    # Mostrar la predicción y probabilidades\n",
        "    print(f\"Predicción del modelo: {digito_predicho}\")\n",
        "    print(\"Probabilidades para cada clase:\")\n",
        "    for i, prob in enumerate(prediccion[0]):\n",
        "        print(f\"Clase {i}: {prob:.4f}\")\n",
        "\n",
        "    # Comparar el resultado con la etiqueta real\n",
        "    print(f\"Etiqueta real: {etiqueta_real}\")\n",
        "    if digito_predicho == etiqueta_real:\n",
        "        print(\"El modelo acertó en su predicción.\")\n",
        "    else:\n",
        "        print(\"El modelo no acertó en su predicción.\")\n",
        "\n",
        "    # Visualización final con predicción y real\n",
        "    plt.figure(figsize=(5, 5))\n",
        "    plt.imshow(imagen_prueba, cmap='gray')\n",
        "    plt.text(2, 2, f'Pred: {digito_predicho}', color='red', fontsize=12, weight='bold',\n",
        "             bbox=dict(facecolor='white', alpha=0.8))\n",
        "    plt.text(2, 25, f'Real: {etiqueta_real}', color='blue', fontsize=12, weight='bold',\n",
        "             bbox=dict(facecolor='white', alpha=0.8))\n",
        "\n",
        "    plt.axis('off')\n",
        "    plt.show()\n",
        "else:\n",
        "    print(f\"No se encontró ninguna imagen con el dígito {digito_deseado} en el conjunto de prueba.\")"
      ],
      "metadata": {
        "colab": {
          "base_uri": "https://localhost:8080/",
          "height": 1000
        },
        "id": "H-neAj_nQaoG",
        "outputId": "4f26991c-9287-4f50-aca5-7520d0873307"
      },
      "execution_count": null,
      "outputs": [
        {
          "output_type": "display_data",
          "data": {
            "text/plain": [
              "<Figure size 500x500 with 1 Axes>"
            ],
            "image/png": "[encoded data removed]"
          },
          "metadata": {}
        },
        {
          "output_type": "stream",
          "name": "stdout",
          "text": [
            "Predicción del modelo: 4\n",
            "Probabilidades para cada clase:\n",
            "Clase 0: 0.1266\n",
            "Clase 1: 0.0802\n",
            "Clase 2: 0.0902\n",
            "Clase 3: 0.1260\n",
            "Clase 4: 0.1390\n",
            "Clase 5: 0.0665\n",
            "Clase 6: 0.0758\n",
            "Clase 7: 0.0747\n",
            "Clase 8: 0.1296\n",
            "Clase 9: 0.0914\n",
            "Etiqueta real: 6\n",
            "El modelo no acertó en su predicción.\n"
          ]
        },
        {
          "output_type": "display_data",
          "data": {
            "text/plain": [
              "<Figure size 500x500 with 1 Axes>"
            ],
            "image/png": "[encoded data removed]"
          },
          "metadata": {}
        }
      ]
    },
    {
      "cell_type": "code",
      "source": [
        "\n"
      ],
      "metadata": {
        "id": "f8JP0MPmQYTI"
      },
      "execution_count": null,
      "outputs": []
    }
  ]
}